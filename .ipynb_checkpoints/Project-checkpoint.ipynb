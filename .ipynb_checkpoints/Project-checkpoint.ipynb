{
 "cells": [
  {
   "cell_type": "markdown",
   "metadata": {},
   "source": [
    "### Import dependencies"
   ]
  },
  {
   "cell_type": "code",
   "execution_count": 50,
   "metadata": {},
   "outputs": [],
   "source": [
    "import pandas as pd\n",
    "from sqlalchemy import create_engine"
   ]
  },
  {
   "cell_type": "markdown",
   "metadata": {},
   "source": [
    "### Store CSV into DataFrame and explore data"
   ]
  },
  {
   "cell_type": "code",
   "execution_count": 41,
   "metadata": {},
   "outputs": [
    {
     "data": {
      "text/html": [
       "<div>\n",
       "<style scoped>\n",
       "    .dataframe tbody tr th:only-of-type {\n",
       "        vertical-align: middle;\n",
       "    }\n",
       "\n",
       "    .dataframe tbody tr th {\n",
       "        vertical-align: top;\n",
       "    }\n",
       "\n",
       "    .dataframe thead th {\n",
       "        text-align: right;\n",
       "    }\n",
       "</style>\n",
       "<table border=\"1\" class=\"dataframe\">\n",
       "  <thead>\n",
       "    <tr style=\"text-align: right;\">\n",
       "      <th></th>\n",
       "      <th>url</th>\n",
       "      <th>Column 1</th>\n",
       "      <th>Pas 1</th>\n",
       "      <th>Pas 1_alt</th>\n",
       "      <th>Pas 2</th>\n",
       "      <th>Pas 2_link</th>\n",
       "      <th>Pas 3</th>\n",
       "      <th>Col 1</th>\n",
       "      <th>Col 2</th>\n",
       "      <th>Col 3</th>\n",
       "      <th>Total</th>\n",
       "    </tr>\n",
       "  </thead>\n",
       "  <tbody>\n",
       "    <tr>\n",
       "      <th>0</th>\n",
       "      <td>https://es.wikipedia.org/wiki/Anexo:Medallero_...</td>\n",
       "      <td>1</td>\n",
       "      <td>https://upload.wikimedia.org/wikipedia/commons...</td>\n",
       "      <td>Equipo Unificado</td>\n",
       "      <td>Equipo Unificado</td>\n",
       "      <td>https://es.wikipedia.org/wiki/Equipo_Unificado...</td>\n",
       "      <td>(EUN)</td>\n",
       "      <td>45</td>\n",
       "      <td>38</td>\n",
       "      <td>29</td>\n",
       "      <td>112</td>\n",
       "    </tr>\n",
       "    <tr>\n",
       "      <th>1</th>\n",
       "      <td>https://es.wikipedia.org/wiki/Anexo:Medallero_...</td>\n",
       "      <td>2</td>\n",
       "      <td>https://upload.wikimedia.org/wikipedia/commons...</td>\n",
       "      <td>Estados Unidos</td>\n",
       "      <td>Estados Unidos</td>\n",
       "      <td>https://es.wikipedia.org/wiki/Estados_Unidos_e...</td>\n",
       "      <td>(USA)</td>\n",
       "      <td>37</td>\n",
       "      <td>34</td>\n",
       "      <td>37</td>\n",
       "      <td>108</td>\n",
       "    </tr>\n",
       "    <tr>\n",
       "      <th>2</th>\n",
       "      <td>https://es.wikipedia.org/wiki/Anexo:Medallero_...</td>\n",
       "      <td>3</td>\n",
       "      <td>https://upload.wikimedia.org/wikipedia/commons...</td>\n",
       "      <td>Alemania</td>\n",
       "      <td>Alemania</td>\n",
       "      <td>https://es.wikipedia.org/wiki/Alemania_en_los_...</td>\n",
       "      <td>(GER)</td>\n",
       "      <td>33</td>\n",
       "      <td>21</td>\n",
       "      <td>28</td>\n",
       "      <td>82</td>\n",
       "    </tr>\n",
       "    <tr>\n",
       "      <th>3</th>\n",
       "      <td>https://es.wikipedia.org/wiki/Anexo:Medallero_...</td>\n",
       "      <td>4</td>\n",
       "      <td>https://upload.wikimedia.org/wikipedia/commons...</td>\n",
       "      <td>China</td>\n",
       "      <td>China</td>\n",
       "      <td>https://es.wikipedia.org/wiki/China_en_los_Jue...</td>\n",
       "      <td>(CHN)</td>\n",
       "      <td>16</td>\n",
       "      <td>22</td>\n",
       "      <td>16</td>\n",
       "      <td>54</td>\n",
       "    </tr>\n",
       "    <tr>\n",
       "      <th>4</th>\n",
       "      <td>https://es.wikipedia.org/wiki/Anexo:Medallero_...</td>\n",
       "      <td>5</td>\n",
       "      <td>https://upload.wikimedia.org/wikipedia/commons...</td>\n",
       "      <td>Cuba</td>\n",
       "      <td>Cuba</td>\n",
       "      <td>https://es.wikipedia.org/wiki/Cuba_en_los_Jueg...</td>\n",
       "      <td>(CUB)</td>\n",
       "      <td>14</td>\n",
       "      <td>6</td>\n",
       "      <td>11</td>\n",
       "      <td>31</td>\n",
       "    </tr>\n",
       "  </tbody>\n",
       "</table>\n",
       "</div>"
      ],
      "text/plain": [
       "                                                 url  Column 1  \\\n",
       "0  https://es.wikipedia.org/wiki/Anexo:Medallero_...         1   \n",
       "1  https://es.wikipedia.org/wiki/Anexo:Medallero_...         2   \n",
       "2  https://es.wikipedia.org/wiki/Anexo:Medallero_...         3   \n",
       "3  https://es.wikipedia.org/wiki/Anexo:Medallero_...         4   \n",
       "4  https://es.wikipedia.org/wiki/Anexo:Medallero_...         5   \n",
       "\n",
       "                                               Pas 1         Pas 1_alt  \\\n",
       "0  https://upload.wikimedia.org/wikipedia/commons...  Equipo Unificado   \n",
       "1  https://upload.wikimedia.org/wikipedia/commons...    Estados Unidos   \n",
       "2  https://upload.wikimedia.org/wikipedia/commons...          Alemania   \n",
       "3  https://upload.wikimedia.org/wikipedia/commons...             China   \n",
       "4  https://upload.wikimedia.org/wikipedia/commons...              Cuba   \n",
       "\n",
       "              Pas 2                                         Pas 2_link  Pas 3  \\\n",
       "0  Equipo Unificado  https://es.wikipedia.org/wiki/Equipo_Unificado...  (EUN)   \n",
       "1    Estados Unidos  https://es.wikipedia.org/wiki/Estados_Unidos_e...  (USA)   \n",
       "2          Alemania  https://es.wikipedia.org/wiki/Alemania_en_los_...  (GER)   \n",
       "3             China  https://es.wikipedia.org/wiki/China_en_los_Jue...  (CHN)   \n",
       "4              Cuba  https://es.wikipedia.org/wiki/Cuba_en_los_Jueg...  (CUB)   \n",
       "\n",
       "   Col 1  Col 2  Col 3  Total  \n",
       "0     45     38     29    112  \n",
       "1     37     34     37    108  \n",
       "2     33     21     28     82  \n",
       "3     16     22     16     54  \n",
       "4     14      6     11     31  "
      ]
     },
     "execution_count": 41,
     "metadata": {},
     "output_type": "execute_result"
    }
   ],
   "source": [
    "csv_file1 = \"Barcelona1992.csv\"\n",
    "df1 = pd.read_csv(csv_file1)\n",
    "df1.head()"
   ]
  },
  {
   "cell_type": "markdown",
   "metadata": {},
   "source": [
    "### Create new data with select columns and rename columns"
   ]
  },
  {
   "cell_type": "code",
   "execution_count": 51,
   "metadata": {},
   "outputs": [],
   "source": [
    "csv_file1 = \"Barcelona1992.csv\"\n",
    "df1 = pd.read_csv(csv_file1)\n",
    "df1 = df1[['Pas 2','Pas 3','Col 1','Col 2', 'Col 3', 'Total']].copy()\n",
    "df1 = df1.rename(columns={'Pas 2':'country', 'Pas 3':'country_id','Col 1':'gold','Col 2':'silver','Col 3':'bronze','Total':'total'})\n",
    "csv_file2 = \"Atlanta1996.csv\"\n",
    "df2 = pd.read_csv(csv_file2)\n",
    "df2 = df2[['Pas 2','Pas 3','Col 1','Col 2', 'Col 3', 'Total']].copy()\n",
    "df2 = df2.rename(columns={'Pas 2':'country', 'Pas 3':'country_id','Col 1':'gold','Col 2':'silver','Col 3':'bronze','Total':'total'})\n",
    "csv_file3 = \"Sidney2000.csv\"\n",
    "df3 = pd.read_csv(csv_file3)\n",
    "df3 = df3[['Pas 2','Pas 3','Col 1','Col 2', 'Col 3', 'Total']].copy()\n",
    "df3 = df3.rename(columns={'Pas 2':'country', 'Pas 3':'country_id','Col 1':'gold','Col 2':'silver','Col 3':'bronze','Total':'total'})\n",
    "csv_file4 = \"Atenas2004.csv\"\n",
    "df4 = pd.read_csv(csv_file4)\n",
    "df4 = df4[['Pas 2','Pas 3','Col 1','Col 2', 'Col 3', 'Total']].copy()\n",
    "df4 = df4.rename(columns={'Pas 2':'country', 'Pas 3':'country_id','Col 1':'gold','Col 2':'silver','Col 3':'bronze','Total':'total'})\n",
    "csv_file5 = \"Pekin2008.csv\"\n",
    "df5 = pd.read_csv(csv_file5)\n",
    "df5 = df5[['Pas 2','Pas 3','Col 1','Col 2', 'Col 3', 'Total']].copy()\n",
    "df5 = df5.rename(columns={'Pas 2':'country', 'Pas 3':'country_id','Col 1':'gold','Col 2':'silver','Col 3':'bronze','Total':'total'})\n",
    "csv_file6 = \"Londres2012.csv\"\n",
    "df6 = pd.read_csv(csv_file6)\n",
    "df6 = df6[['Pas 2','Pas 3','Col 1','Col 2', 'Col 3', 'Total']].copy()\n",
    "df6 = df6.rename(columns={'Pas 2':'country', 'Pas 3':'country_id','Col 1':'gold','Col 2':'silver','Col 3':'bronze','Total':'total'})\n",
    "csv_file7 = \"Rio2016.csv\"\n",
    "df7 = pd.read_csv(csv_file7)\n",
    "df7 = df7[['Pas 2','Pas 3','Col 1','Col 2', 'Col 3', 'Total']].copy()\n",
    "df7 = df7.rename(columns={'Pas 2':'country', 'Pas 3':'country_id','Col 1':'gold','Col 2':'silver','Col 3':'bronze','Total':'total'})"
   ]
  },
  {
   "cell_type": "code",
   "execution_count": 52,
   "metadata": {},
   "outputs": [
    {
     "data": {
      "text/html": [
       "<div>\n",
       "<style scoped>\n",
       "    .dataframe tbody tr th:only-of-type {\n",
       "        vertical-align: middle;\n",
       "    }\n",
       "\n",
       "    .dataframe tbody tr th {\n",
       "        vertical-align: top;\n",
       "    }\n",
       "\n",
       "    .dataframe thead th {\n",
       "        text-align: right;\n",
       "    }\n",
       "</style>\n",
       "<table border=\"1\" class=\"dataframe\">\n",
       "  <thead>\n",
       "    <tr style=\"text-align: right;\">\n",
       "      <th></th>\n",
       "      <th>country</th>\n",
       "      <th>country_id</th>\n",
       "      <th>gold</th>\n",
       "      <th>silver</th>\n",
       "      <th>bronze</th>\n",
       "      <th>total</th>\n",
       "    </tr>\n",
       "  </thead>\n",
       "  <tbody>\n",
       "    <tr>\n",
       "      <th>0</th>\n",
       "      <td>Equipo Unificado</td>\n",
       "      <td>(EUN)</td>\n",
       "      <td>45</td>\n",
       "      <td>38</td>\n",
       "      <td>29</td>\n",
       "      <td>112</td>\n",
       "    </tr>\n",
       "    <tr>\n",
       "      <th>1</th>\n",
       "      <td>Estados Unidos</td>\n",
       "      <td>(USA)</td>\n",
       "      <td>37</td>\n",
       "      <td>34</td>\n",
       "      <td>37</td>\n",
       "      <td>108</td>\n",
       "    </tr>\n",
       "    <tr>\n",
       "      <th>2</th>\n",
       "      <td>Alemania</td>\n",
       "      <td>(GER)</td>\n",
       "      <td>33</td>\n",
       "      <td>21</td>\n",
       "      <td>28</td>\n",
       "      <td>82</td>\n",
       "    </tr>\n",
       "    <tr>\n",
       "      <th>3</th>\n",
       "      <td>China</td>\n",
       "      <td>(CHN)</td>\n",
       "      <td>16</td>\n",
       "      <td>22</td>\n",
       "      <td>16</td>\n",
       "      <td>54</td>\n",
       "    </tr>\n",
       "    <tr>\n",
       "      <th>4</th>\n",
       "      <td>Cuba</td>\n",
       "      <td>(CUB)</td>\n",
       "      <td>14</td>\n",
       "      <td>6</td>\n",
       "      <td>11</td>\n",
       "      <td>31</td>\n",
       "    </tr>\n",
       "  </tbody>\n",
       "</table>\n",
       "</div>"
      ],
      "text/plain": [
       "            country country_id  gold  silver  bronze  total\n",
       "0  Equipo Unificado      (EUN)    45      38      29    112\n",
       "1    Estados Unidos      (USA)    37      34      37    108\n",
       "2          Alemania      (GER)    33      21      28     82\n",
       "3             China      (CHN)    16      22      16     54\n",
       "4              Cuba      (CUB)    14       6      11     31"
      ]
     },
     "execution_count": 52,
     "metadata": {},
     "output_type": "execute_result"
    }
   ],
   "source": [
    "df1.head()"
   ]
  },
  {
   "cell_type": "markdown",
   "metadata": {},
   "source": [
    "### Connect to local data base in postgres"
   ]
  },
  {
   "cell_type": "code",
   "execution_count": 53,
   "metadata": {},
   "outputs": [],
   "source": [
    "rds_connection_string = \"postgres:postgres@localhost:5432/OlympicGames_db\"\n",
    "engine = create_engine(f'postgresql://{rds_connection_string}')"
   ]
  },
  {
   "cell_type": "markdown",
   "metadata": {},
   "source": [
    "### Check for tables"
   ]
  },
  {
   "cell_type": "code",
   "execution_count": 54,
   "metadata": {},
   "outputs": [
    {
     "data": {
      "text/plain": [
       "['barcelona_1992',\n",
       " 'atlanta_1996',\n",
       " 'sidney_2000',\n",
       " 'atenas_2004',\n",
       " 'pekin_2008',\n",
       " 'londres_2012',\n",
       " 'rio_2016']"
      ]
     },
     "execution_count": 54,
     "metadata": {},
     "output_type": "execute_result"
    }
   ],
   "source": [
    "engine.table_names()"
   ]
  },
  {
   "cell_type": "markdown",
   "metadata": {},
   "source": [
    "### Use pandas to load csv converted DataFrame into database"
   ]
  },
  {
   "cell_type": "code",
   "execution_count": 55,
   "metadata": {},
   "outputs": [],
   "source": [
    "df1.to_sql(name='barcelona_1992', con=engine, if_exists='append', index=False)"
   ]
  },
  {
   "cell_type": "code",
   "execution_count": 56,
   "metadata": {},
   "outputs": [
    {
     "data": {
      "text/html": [
       "<div>\n",
       "<style scoped>\n",
       "    .dataframe tbody tr th:only-of-type {\n",
       "        vertical-align: middle;\n",
       "    }\n",
       "\n",
       "    .dataframe tbody tr th {\n",
       "        vertical-align: top;\n",
       "    }\n",
       "\n",
       "    .dataframe thead th {\n",
       "        text-align: right;\n",
       "    }\n",
       "</style>\n",
       "<table border=\"1\" class=\"dataframe\">\n",
       "  <thead>\n",
       "    <tr style=\"text-align: right;\">\n",
       "      <th></th>\n",
       "      <th>country</th>\n",
       "      <th>country_id</th>\n",
       "      <th>gold</th>\n",
       "      <th>silver</th>\n",
       "      <th>bronze</th>\n",
       "      <th>total</th>\n",
       "    </tr>\n",
       "  </thead>\n",
       "  <tbody>\n",
       "    <tr>\n",
       "      <th>0</th>\n",
       "      <td>Equipo Unificado</td>\n",
       "      <td>(EUN)</td>\n",
       "      <td>45</td>\n",
       "      <td>38</td>\n",
       "      <td>29</td>\n",
       "      <td>112</td>\n",
       "    </tr>\n",
       "    <tr>\n",
       "      <th>1</th>\n",
       "      <td>Estados Unidos</td>\n",
       "      <td>(USA)</td>\n",
       "      <td>37</td>\n",
       "      <td>34</td>\n",
       "      <td>37</td>\n",
       "      <td>108</td>\n",
       "    </tr>\n",
       "    <tr>\n",
       "      <th>2</th>\n",
       "      <td>Alemania</td>\n",
       "      <td>(GER)</td>\n",
       "      <td>33</td>\n",
       "      <td>21</td>\n",
       "      <td>28</td>\n",
       "      <td>82</td>\n",
       "    </tr>\n",
       "    <tr>\n",
       "      <th>3</th>\n",
       "      <td>China</td>\n",
       "      <td>(CHN)</td>\n",
       "      <td>16</td>\n",
       "      <td>22</td>\n",
       "      <td>16</td>\n",
       "      <td>54</td>\n",
       "    </tr>\n",
       "    <tr>\n",
       "      <th>4</th>\n",
       "      <td>Cuba</td>\n",
       "      <td>(CUB)</td>\n",
       "      <td>14</td>\n",
       "      <td>6</td>\n",
       "      <td>11</td>\n",
       "      <td>31</td>\n",
       "    </tr>\n",
       "  </tbody>\n",
       "</table>\n",
       "</div>"
      ],
      "text/plain": [
       "            country country_id  gold  silver  bronze  total\n",
       "0  Equipo Unificado      (EUN)    45      38      29    112\n",
       "1    Estados Unidos      (USA)    37      34      37    108\n",
       "2          Alemania      (GER)    33      21      28     82\n",
       "3             China      (CHN)    16      22      16     54\n",
       "4              Cuba      (CUB)    14       6      11     31"
      ]
     },
     "execution_count": 56,
     "metadata": {},
     "output_type": "execute_result"
    }
   ],
   "source": [
    "pd.read_sql_query('select * from barcelona_1992', con=engine).head()"
   ]
  },
  {
   "cell_type": "code",
   "execution_count": 57,
   "metadata": {},
   "outputs": [],
   "source": [
    "df2.to_sql(name='atlanta_1996', con=engine, if_exists='append', index=False)\n",
    "df3.to_sql(name='sidney_2000', con=engine, if_exists='append', index=False)\n",
    "df4.to_sql(name='atenas_2004', con=engine, if_exists='append', index=False)\n",
    "df5.to_sql(name='pekin_2008', con=engine, if_exists='append', index=False)\n",
    "df6.to_sql(name='londres_2012', con=engine, if_exists='append', index=False)\n",
    "df7.to_sql(name='rio_2016', con=engine, if_exists='append', index=False)"
   ]
  },
  {
   "cell_type": "code",
   "execution_count": null,
   "metadata": {},
   "outputs": [],
   "source": []
  }
 ],
 "metadata": {
  "kernelspec": {
   "display_name": "Python 3",
   "language": "python",
   "name": "python3"
  },
  "language_info": {
   "codemirror_mode": {
    "name": "ipython",
    "version": 3
   },
   "file_extension": ".py",
   "mimetype": "text/x-python",
   "name": "python",
   "nbconvert_exporter": "python",
   "pygments_lexer": "ipython3",
   "version": "3.7.3"
  }
 },
 "nbformat": 4,
 "nbformat_minor": 2
}
